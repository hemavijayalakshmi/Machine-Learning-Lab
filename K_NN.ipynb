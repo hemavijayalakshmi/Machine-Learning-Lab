{
  "nbformat": 4,
  "nbformat_minor": 0,
  "metadata": {
    "colab": {
      "provenance": [],
      "authorship_tag": "ABX9TyO9uuVqEscGRHjWtuOoGHwW",
      "include_colab_link": true
    },
    "kernelspec": {
      "name": "python3",
      "display_name": "Python 3"
    },
    "language_info": {
      "name": "python"
    }
  },
  "cells": [
    {
      "cell_type": "markdown",
      "metadata": {
        "id": "view-in-github",
        "colab_type": "text"
      },
      "source": [
        "<a href=\"https://colab.research.google.com/github/hemavijayalakshmi/Machine-Learning-Lab/blob/main/K_NN.ipynb\" target=\"_parent\"><img src=\"https://colab.research.google.com/assets/colab-badge.svg\" alt=\"Open In Colab\"/></a>"
      ]
    },
    {
      "cell_type": "code",
      "execution_count": null,
      "metadata": {
        "colab": {
          "base_uri": "https://localhost:8080/"
        },
        "id": "sfWYF_tbNHzh",
        "outputId": "5c74421e-7840-45c4-e449-ad03a8b843af"
      },
      "outputs": [
        {
          "output_type": "stream",
          "name": "stdout",
          "text": [
            "\n",
            "Introduced noise: Modified 12 labels in training data.\n",
            "\n",
            "=== Prediction Results ===\n",
            "✔ Correct: Predicted=versicolor, Actual=versicolor\n",
            "✔ Correct: Predicted=setosa, Actual=setosa\n",
            "✔ Correct: Predicted=virginica, Actual=virginica\n",
            "✔ Correct: Predicted=versicolor, Actual=versicolor\n",
            "✔ Correct: Predicted=versicolor, Actual=versicolor\n",
            "✔ Correct: Predicted=setosa, Actual=setosa\n",
            "✔ Correct: Predicted=versicolor, Actual=versicolor\n",
            "✔ Correct: Predicted=virginica, Actual=virginica\n",
            "✘ Wrong: Predicted=virginica, Actual=versicolor\n",
            "✔ Correct: Predicted=versicolor, Actual=versicolor\n",
            "✔ Correct: Predicted=virginica, Actual=virginica\n",
            "✔ Correct: Predicted=setosa, Actual=setosa\n",
            "✔ Correct: Predicted=setosa, Actual=setosa\n",
            "✔ Correct: Predicted=setosa, Actual=setosa\n",
            "✔ Correct: Predicted=setosa, Actual=setosa\n",
            "✔ Correct: Predicted=versicolor, Actual=versicolor\n",
            "✔ Correct: Predicted=virginica, Actual=virginica\n",
            "✔ Correct: Predicted=versicolor, Actual=versicolor\n",
            "✔ Correct: Predicted=versicolor, Actual=versicolor\n",
            "✔ Correct: Predicted=virginica, Actual=virginica\n",
            "✔ Correct: Predicted=setosa, Actual=setosa\n",
            "✔ Correct: Predicted=virginica, Actual=virginica\n",
            "✔ Correct: Predicted=setosa, Actual=setosa\n",
            "✔ Correct: Predicted=virginica, Actual=virginica\n",
            "✔ Correct: Predicted=virginica, Actual=virginica\n",
            "✔ Correct: Predicted=virginica, Actual=virginica\n",
            "✔ Correct: Predicted=virginica, Actual=virginica\n",
            "✔ Correct: Predicted=virginica, Actual=virginica\n",
            "✔ Correct: Predicted=setosa, Actual=setosa\n",
            "✔ Correct: Predicted=setosa, Actual=setosa\n",
            "\n",
            "Total Correct: 29, Total Wrong: 1\n",
            "Accuracy: 96.67%\n"
          ]
        }
      ],
      "source": [
        "     # Import necessary libraries\n",
        "import numpy as np\n",
        "from sklearn import datasets\n",
        "from sklearn.model_selection import train_test_split\n",
        "from sklearn.neighbors import KNeighborsClassifier\n",
        "\n",
        "# Step 1: Load the Iris dataset\n",
        "iris = datasets.load_iris()\n",
        "X = iris.data    # Features (sepal & petal length, width)\n",
        "y = iris.target  # Labels (0: setosa, 1: versicolor, 2: virginica)\n",
        "\n",
        "# Step 2: Split the dataset (80% training, 20% testing)\n",
        "X_train, X_test, y_train, y_test = train_test_split(X, y, test_size=0.2, random_state=42)\n",
        "\n",
        "# Step 3: Introduce noise (randomly modify some training labels)\n",
        "np.random.seed(42)  # For reproducibility\n",
        "num_noisy_labels = int(0.1 * len(y_train))  # Change 10% of the labels\n",
        "\n",
        "random_indices = np.random.choice(len(y_train), num_noisy_labels, replace=False)\n",
        "for i in random_indices:\n",
        "    original_label = y_train[i]\n",
        "    possible_labels = [label for label in [0, 1, 2] if label != original_label]\n",
        "    y_train[i] = np.random.choice(possible_labels)  # Assign a wrong label\n",
        "\n",
        "print(f\"\\nIntroduced noise: Modified {num_noisy_labels} labels in training data.\")\n",
        "\n",
        "# Step 4: Create and train the k-NN model\n",
        "k = 5  # Number of neighbors\n",
        "knn = KNeighborsClassifier(n_neighbors=k)  # Using sklearn's built-in k-NN classifier\n",
        "knn.fit(X_train, y_train)\n",
        "\n",
        "# Step 5: Make predictions\n",
        "y_pred = knn.predict(X_test)\n",
        "\n",
        "# Step 6: Display correct and incorrect predictions\n",
        "correct = 0\n",
        "wrong = 0\n",
        "\n",
        "print(\"\\n=== Prediction Results ===\")\n",
        "for i in range(len(y_test)):\n",
        "    if y_test[i] == y_pred[i]:\n",
        "        correct += 1\n",
        "        print(f\"✔ Correct: Predicted={iris.target_names[y_pred[i]]}, Actual={iris.target_names[y_test[i]]}\")\n",
        "    else:\n",
        "        wrong += 1\n",
        "        print(f\"✘ Wrong: Predicted={iris.target_names[y_pred[i]]}, Actual={iris.target_names[y_test[i]]}\")\n",
        "\n",
        "# Step 7: Print accuracy\n",
        "accuracy = (correct / len(y_test)) * 100\n",
        "print(f\"\\nTotal Correct: {correct}, Total Wrong: {wrong}\")\n",
        "print(f\"Accuracy: {accuracy:.2f}%\")\n"
      ]
    }
  ]
}