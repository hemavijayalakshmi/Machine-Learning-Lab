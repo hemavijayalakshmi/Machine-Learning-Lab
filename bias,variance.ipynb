{
  "nbformat": 4,
  "nbformat_minor": 0,
  "metadata": {
    "colab": {
      "provenance": [],
      "authorship_tag": "ABX9TyN8Ev34sY6F+4NlCuXPwm44",
      "include_colab_link": true
    },
    "kernelspec": {
      "name": "python3",
      "display_name": "Python 3"
    },
    "language_info": {
      "name": "python"
    }
  },
  "cells": [
    {
      "cell_type": "markdown",
      "metadata": {
        "id": "view-in-github",
        "colab_type": "text"
      },
      "source": [
        "<a href=\"https://colab.research.google.com/github/hemavijayalakshmi/Machine-Learning-Lab/blob/main/bias%2Cvariance.ipynb\" target=\"_parent\"><img src=\"https://colab.research.google.com/assets/colab-badge.svg\" alt=\"Open In Colab\"/></a>"
      ]
    },
    {
      "cell_type": "code",
      "execution_count": 1,
      "metadata": {
        "id": "Bj6f4gAqcye9",
        "colab": {
          "base_uri": "https://localhost:8080/"
        },
        "outputId": "28f1fec7-d5dc-4253-c8e8-8f83b63f2c40"
      },
      "outputs": [
        {
          "output_type": "stream",
          "name": "stdout",
          "text": [
            "Linear Model MSE: 1.262177448353619e-29\n",
            "Polynomial Model MSE: 1.6866240584077843e-26\n",
            "Cross-validation MSE: 2.9187853493177438e-30\n"
          ]
        }
      ],
      "source": [
        "import numpy as np\n",
        "import pandas as pd\n",
        "from sklearn.model_selection import train_test_split, cross_val_score\n",
        "from sklearn.linear_model import LinearRegression\n",
        "from sklearn.preprocessing import PolynomialFeatures\n",
        "from sklearn.metrics import mean_squared_error\n",
        "\n",
        "# Sample data with duplicates\n",
        "data = {'X': [1, 2, 3, 4, 5, 5, 6, 7, 8, 9], 'Y': [2, 4, 6, 8, 10, 10, 12, 14, 16, 18]}\n",
        "df = pd.DataFrame(data)\n",
        "\n",
        "# Remove duplicate rows\n",
        "df = df.drop_duplicates()\n",
        "\n",
        "# Splitting data into training and testing sets\n",
        "X = df[['X']]\n",
        "y = df['Y']\n",
        "X_train, X_test, y_train, y_test = train_test_split(X, y, test_size=0.2, random_state=42)\n",
        "\n",
        "# Linear regression model (High bias, Low variance)\n",
        "linear_model = LinearRegression()\n",
        "linear_model.fit(X_train, y_train)\n",
        "y_pred_linear = linear_model.predict(X_test)\n",
        "linear_mse = mean_squared_error(y_test, y_pred_linear)\n",
        "\n",
        "# Polynomial regression model (Low bias, High variance)\n",
        "poly = PolynomialFeatures(degree=3)\n",
        "X_train_poly = poly.fit_transform(X_train)\n",
        "X_test_poly = poly.transform(X_test)\n",
        "poly_model = LinearRegression()\n",
        "poly_model.fit(X_train_poly, y_train)\n",
        "y_pred_poly = poly_model.predict(X_test_poly)\n",
        "poly_mse = mean_squared_error(y_test, y_pred_poly)\n",
        "\n",
        "# Cross-validation for linear model\n",
        "cv_scores = cross_val_score(linear_model, X, y, cv=5, scoring='neg_mean_squared_error')\n",
        "cv_mse = -cv_scores.mean()\n",
        "\n",
        "print(f\"Linear Model MSE: {linear_mse}\")\n",
        "print(f\"Polynomial Model MSE: {poly_mse}\")\n",
        "print(f\"Cross-validation MSE: {cv_mse}\")"
      ]
    }
  ]
}