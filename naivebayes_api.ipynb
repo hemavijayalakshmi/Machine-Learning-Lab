{
  "nbformat": 4,
  "nbformat_minor": 0,
  "metadata": {
    "colab": {
      "provenance": [],
      "authorship_tag": "ABX9TyPGz0g4SQ1r066fqxTD67lJ",
      "include_colab_link": true
    },
    "kernelspec": {
      "name": "python3",
      "display_name": "Python 3"
    },
    "language_info": {
      "name": "python"
    }
  },
  "cells": [
    {
      "cell_type": "markdown",
      "metadata": {
        "id": "view-in-github",
        "colab_type": "text"
      },
      "source": [
        "<a href=\"https://colab.research.google.com/github/hemavijayalakshmi/Machine-Learning-Lab/blob/main/naivebayes_api.ipynb\" target=\"_parent\"><img src=\"https://colab.research.google.com/assets/colab-badge.svg\" alt=\"Open In Colab\"/></a>"
      ]
    },
    {
      "cell_type": "code",
      "execution_count": null,
      "metadata": {
        "colab": {
          "base_uri": "https://localhost:8080/"
        },
        "id": "uqxXZijkLb3p",
        "outputId": "66bb2bdc-1a9c-4184-d4e7-d0d0b861cc32"
      },
      "outputs": [
        {
          "output_type": "stream",
          "name": "stdout",
          "text": [
            "Total Instances of Dataset:  18\n"
          ]
        }
      ],
      "source": [
        "import pandas as pd\n",
        "msg = pd.read_csv('document.csv', names=['message', 'label'])\n",
        "print(\"Total Instances of Dataset: \", msg.shape[0])\n",
        "msg['labelnum'] = msg.label.map({'pos': 1, 'neg': 0})"
      ]
    },
    {
      "cell_type": "code",
      "source": [
        "X = msg.message\n",
        "y = msg.labelnum\n",
        "from sklearn.model_selection import train_test_split\n",
        "Xtrain, Xtest, ytrain, ytest = train_test_split(X, y)\n",
        "from sklearn.feature_extraction.text import CountVectorizer\n",
        "\n",
        "count_v = CountVectorizer()\n",
        "Xtrain_dm = count_v.fit_transform(Xtrain)\n",
        "Xtest_dm = count_v.transform(Xtest)\n",
        "df = pd.DataFrame(Xtrain_dm.toarray(), columns=count_v.get_feature_names_out())\n",
        "print(df[0:5])"
      ],
      "metadata": {
        "colab": {
          "base_uri": "https://localhost:8080/"
        },
        "id": "A4_58iy7LoBX",
        "outputId": "abc80877-61c7-4297-84d7-34c98803e049"
      },
      "execution_count": null,
      "outputs": [
        {
          "output_type": "stream",
          "name": "stdout",
          "text": [
            "   about  am  amazing  an  and  awesome  bad  beers  best  can  ...  tired  \\\n",
            "0      1   0        0   0    0        0    0      1     0    0  ...      0   \n",
            "1      0   0        0   0    0        0    0      0     0    0  ...      0   \n",
            "2      0   1        0   0    1        0    0      0     0    0  ...      1   \n",
            "3      0   0        0   0    0        0    0      0     0    0  ...      0   \n",
            "4      0   0        0   0    0        0    0      0     0    0  ...      0   \n",
            "\n",
            "   to  tomorrow  very  view  we  what  will  with  work  \n",
            "0   0         0     1     0   0     0     0     0     0  \n",
            "1   0         0     0     0   0     0     0     0     0  \n",
            "2   0         0     0     0   0     0     0     0     0  \n",
            "3   1         0     0     0   0     0     0     0     0  \n",
            "4   0         0     0     0   0     1     0     0     0  \n",
            "\n",
            "[5 rows x 45 columns]\n"
          ]
        }
      ]
    },
    {
      "cell_type": "code",
      "source": [
        "from sklearn.naive_bayes import MultinomialNB\n",
        "clf = MultinomialNB()\n",
        "clf.fit(Xtrain_dm, ytrain)\n",
        "pred = clf.predict(Xtest_dm)\n",
        "for doc, p in zip(Xtrain, pred):\n",
        "    p = 'pos' if p == 1 else 'neg'\n",
        "    print(\"%s -> %s\" % (doc, p))"
      ],
      "metadata": {
        "colab": {
          "base_uri": "https://localhost:8080/"
        },
        "id": "ASvQSxS2MEP4",
        "outputId": "3ab2ce7b-c728-4817-ea67-f56618401407"
      },
      "execution_count": null,
      "outputs": [
        {
          "output_type": "stream",
          "name": "stdout",
          "text": [
            "I feel very good about these beers -> pos\n",
            "I love this sandwich -> pos\n",
            "I am sick and tired of this place -> neg\n",
            "I love to dance -> pos\n",
            "What a great holiday -> pos\n"
          ]
        }
      ]
    },
    {
      "cell_type": "code",
      "source": [
        "from sklearn.metrics import accuracy_score, confusion_matrix, precision_score, recall_score\n",
        "print('Accuracy Metrics:')\n",
        "print('Accuracy: ', accuracy_score(ytest, pred))\n",
        "print('Recall: ', recall_score(ytest, pred))\n",
        "print('Precision: ', precision_score(ytest, pred))\n",
        "print('Confusion Matrix: \\n', confusion_matrix(ytest, pred))"
      ],
      "metadata": {
        "colab": {
          "base_uri": "https://localhost:8080/"
        },
        "id": "e4jkkoaoMLC9",
        "outputId": "7acbc90b-bd6d-4309-dee9-12a5130cd5ba"
      },
      "execution_count": null,
      "outputs": [
        {
          "output_type": "stream",
          "name": "stdout",
          "text": [
            "Accuracy Metrics:\n",
            "Accuracy:  0.4\n",
            "Recall:  1.0\n",
            "Precision:  0.25\n",
            "Confusion Matrix: \n",
            " [[1 3]\n",
            " [0 1]]\n"
          ]
        }
      ]
    },
    {
      "cell_type": "code",
      "source": [
        "# Import necessary libraries\n",
        "from IPython import get_ipython\n",
        "from IPython.display import display\n",
        "import pandas as pd\n",
        "from sklearn.model_selection import train_test_split\n",
        "from sklearn.feature_extraction.text import CountVectorizer\n",
        "from sklearn.naive_bayes import MultinomialNB\n",
        "from sklearn.metrics import accuracy_score, confusion_matrix, precision_score, recall_score\n",
        "\n",
        "# Load the dataset\n",
        "msg = pd.read_csv('document.csv', names=['message', 'label'])\n",
        "print(\"Total Instances of Dataset: \", msg.shape[0])\n",
        "\n",
        "# Create numerical labels for sentiment (pos=1, neg=0)\n",
        "msg['labelnum'] = msg.label.map({'pos': 1, 'neg': 0})\n",
        "\n",
        "# Split data into training and testing sets\n",
        "X = msg.message\n",
        "y = msg.labelnum\n",
        "Xtrain, Xtest, ytrain, ytest = train_test_split(X, y)\n",
        "\n",
        "# Create a document-term matrix using CountVectorizer\n",
        "count_v = CountVectorizer()\n",
        "Xtrain_dm = count_v.fit_transform(Xtrain)\n",
        "Xtest_dm = count_v.transform(Xtest)\n",
        "df = pd.DataFrame(Xtrain_dm.toarray(), columns=count_v.get_feature_names_out())\n",
        "print(df[0:5])\n",
        "\n",
        "# Train a Naive Bayes classifier\n",
        "clf = MultinomialNB()\n",
        "clf.fit(Xtrain_dm, ytrain)\n",
        "\n",
        "# Make predictions on the test set\n",
        "pred = clf.predict(Xtest_dm)\n",
        "\n",
        "# Print predictions for training data\n",
        "for doc, p in zip(Xtrain, pred):\n",
        "    p = 'pos' if p == 1 else 'neg'\n",
        "    print(\"%s -> %s\" % (doc, p))\n",
        "\n",
        "# Evaluate the model's performance\n",
        "print('\\n')\n",
        "print('Accuracy Metrics:')\n",
        "print('Accuracy: ', accuracy_score(ytest, pred))\n",
        "print('Recall: ', recall_score(ytest, pred))\n",
        "print('Precision: ', precision_score(ytest, pred))\n",
        "print('Confusion Matrix: \\n', confusion_matrix(ytest, pred))"
      ],
      "metadata": {
        "colab": {
          "base_uri": "https://localhost:8080/"
        },
        "id": "u99zMzEyMucV",
        "outputId": "0544fe45-b907-4049-ae30-42bde429f327"
      },
      "execution_count": null,
      "outputs": [
        {
          "output_type": "stream",
          "name": "stdout",
          "text": [
            "Total Instances of Dataset:  18\n",
            "   about  amazing  an  awesome  beers  best  boss  can  dance  deal  ...  \\\n",
            "0      0        0   1        1      0     0     0    0      0     0  ...   \n",
            "1      0        0   0        0      0     0     0    0      0     0  ...   \n",
            "2      1        0   0        0      1     0     0    0      0     0  ...   \n",
            "3      0        0   0        0      0     0     0    0      1     0  ...   \n",
            "4      0        0   0        0      0     0     0    0      0     0  ...   \n",
            "\n",
            "   this  to  tomorrow  very  view  we  what  will  with  work  \n",
            "0     0   0         0     0     1   0     1     0     0     0  \n",
            "1     0   0         0     0     0   0     1     0     0     0  \n",
            "2     0   0         0     1     0   0     0     0     0     0  \n",
            "3     0   1         0     0     0   0     0     0     0     0  \n",
            "4     1   0         0     0     0   0     0     0     0     0  \n",
            "\n",
            "[5 rows x 44 columns]\n",
            "What an awesome view -> pos\n",
            "What a great holiday -> pos\n",
            "I feel very good about these beers -> neg\n",
            "I love to dance -> neg\n",
            "I do not like the taste of this juice -> pos\n",
            "\n",
            "\n",
            "Accuracy Metrics:\n",
            "Accuracy:  0.6\n",
            "Recall:  1.0\n",
            "Precision:  0.3333333333333333\n",
            "Confusion Matrix: \n",
            " [[2 2]\n",
            " [0 1]]\n"
          ]
        }
      ]
    }
  ]
}