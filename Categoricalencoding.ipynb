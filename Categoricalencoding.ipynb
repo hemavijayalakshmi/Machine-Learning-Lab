{
  "nbformat": 4,
  "nbformat_minor": 0,
  "metadata": {
    "colab": {
      "provenance": [],
      "authorship_tag": "ABX9TyOUQpxsndUiBElSbHTxMKRQ",
      "include_colab_link": true
    },
    "kernelspec": {
      "name": "python3",
      "display_name": "Python 3"
    },
    "language_info": {
      "name": "python"
    }
  },
  "cells": [
    {
      "cell_type": "markdown",
      "metadata": {
        "id": "view-in-github",
        "colab_type": "text"
      },
      "source": [
        "<a href=\"https://colab.research.google.com/github/hemavijayalakshmi/Machine-Learning-Lab/blob/main/Categoricalencoding.ipynb\" target=\"_parent\"><img src=\"https://colab.research.google.com/assets/colab-badge.svg\" alt=\"Open In Colab\"/></a>"
      ]
    },
    {
      "cell_type": "code",
      "source": [
        "import pandas as pd\n",
        "from sklearn.preprocessing import OneHotEncoder\n",
        "\n",
        "data = {\n",
        "    'Employee id': [10, 20, 15, 25, 30],\n",
        "    'Gender': ['M', 'F', 'F', 'M', 'F'],\n",
        "    'Remarks': ['Good', 'Nice', 'Good', 'Great', 'Nice']\n",
        "}\n",
        "\n",
        "df = pd.DataFrame(data)\n",
        "print(f\"Original Employee Data:\\n{df}\\n\")\n",
        "df_pandas_encoded = pd.get_dummies(df, columns=['Gender', 'Remarks'], drop_first=True)\n",
        "print(f\"One-Hot Encoded Data using Pandas:\\n{df_pandas_encoded}\\n\")\n",
        "categorical_columns = ['Gender', 'Remarks']\n",
        "\n",
        "encoder = OneHotEncoder(sparse_output=False)\n",
        "\n",
        "one_hot_encoded = encoder.fit_transform(df[categorical_columns])\n",
        "\n",
        "one_hot_df = pd.DataFrame(one_hot_encoded,\n",
        "                          columns=encoder.get_feature_names_out(categorical_columns))\n",
        "\n",
        "df_sklearn_encoded = pd.concat([df.drop(categorical_columns, axis=1), one_hot_df], axis=1)\n",
        "\n",
        "print(f\"One-Hot Encoded Data using Scikit-Learn:\\n{df_sklearn_encoded}\\n\")"
      ],
      "metadata": {
        "colab": {
          "base_uri": "https://localhost:8080/"
        },
        "id": "jBkvj6-WokNy",
        "outputId": "640486bb-a82c-433b-802e-381c1697dc14"
      },
      "execution_count": 1,
      "outputs": [
        {
          "output_type": "stream",
          "name": "stdout",
          "text": [
            "Original Employee Data:\n",
            "   Employee id Gender Remarks\n",
            "0           10      M    Good\n",
            "1           20      F    Nice\n",
            "2           15      F    Good\n",
            "3           25      M   Great\n",
            "4           30      F    Nice\n",
            "\n",
            "One-Hot Encoded Data using Pandas:\n",
            "   Employee id  Gender_M  Remarks_Great  Remarks_Nice\n",
            "0           10      True          False         False\n",
            "1           20     False          False          True\n",
            "2           15     False          False         False\n",
            "3           25      True           True         False\n",
            "4           30     False          False          True\n",
            "\n",
            "One-Hot Encoded Data using Scikit-Learn:\n",
            "   Employee id  Gender_F  Gender_M  Remarks_Good  Remarks_Great  Remarks_Nice\n",
            "0           10       0.0       1.0           1.0            0.0           0.0\n",
            "1           20       1.0       0.0           0.0            0.0           1.0\n",
            "2           15       1.0       0.0           1.0            0.0           0.0\n",
            "3           25       0.0       1.0           0.0            1.0           0.0\n",
            "4           30       1.0       0.0           0.0            0.0           1.0\n",
            "\n"
          ]
        }
      ]
    }
  ]
}