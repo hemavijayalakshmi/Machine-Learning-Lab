{
  "nbformat": 4,
  "nbformat_minor": 0,
  "metadata": {
    "colab": {
      "provenance": []
    },
    "kernelspec": {
      "name": "python3",
      "display_name": "Python 3"
    },
    "language_info": {
      "name": "python"
    }
  },
  "cells": [
    {
      "cell_type": "code",
      "execution_count": null,
      "metadata": {
        "colab": {
          "base_uri": "https://localhost:8080/"
        },
        "id": "dKZ3ZaUoichp",
        "outputId": "23195ad6-e173-4bee-b174-83004de0acca"
      },
      "outputs": [
        {
          "output_type": "stream",
          "name": "stdout",
          "text": [
            "     sky air temp humidity    wind water forecast enjoy sport\n",
            "0  sunny     warm   normal  strong  warm     same         yes\n",
            "1  sunny     warm     high  strong  warm     same         yes\n",
            "2  rainy     cold     high  strong  warm   change          no\n",
            "3  sunny     warm     high  strong  cool   change         yes\n"
          ]
        }
      ],
      "source": [
        "import pandas as pd\n",
        "import numpy as np\n",
        "data = pd.read_csv('data.csv')\n",
        "print(data)"
      ]
    },
    {
      "cell_type": "code",
      "source": [
        "concepts = np.array(data)[:,:-1]\n",
        "print(concepts)"
      ],
      "metadata": {
        "colab": {
          "base_uri": "https://localhost:8080/"
        },
        "id": "AK-D0lNcjWmR",
        "outputId": "a9d8f61c-5ae0-423d-e6ab-5b823b2b0617"
      },
      "execution_count": null,
      "outputs": [
        {
          "output_type": "stream",
          "name": "stdout",
          "text": [
            "[['sunny' 'warm' 'normal' 'strong' 'warm' 'same']\n",
            " ['sunny' 'warm' 'high' 'strong' 'warm' 'same']\n",
            " ['rainy' 'cold' 'high' 'strong' 'warm' 'change']\n",
            " ['sunny' 'warm' 'high' 'strong' 'cool' 'change']]\n"
          ]
        }
      ]
    },
    {
      "cell_type": "code",
      "source": [
        "target = np.array(data)[:,-1]\n",
        "print(target)"
      ],
      "metadata": {
        "colab": {
          "base_uri": "https://localhost:8080/"
        },
        "id": "vGpWH4XjjhfB",
        "outputId": "8e8fe6c7-600d-4f99-e262-ddace2edccb1"
      },
      "execution_count": null,
      "outputs": [
        {
          "output_type": "stream",
          "name": "stdout",
          "text": [
            "['yes' 'yes' 'no' 'yes']\n"
          ]
        }
      ]
    },
    {
      "cell_type": "code",
      "source": [
        "def train(con, tar):\n",
        "    for i, val in enumerate(tar):\n",
        "        if val == 'yes':\n",
        "            specific_h = con[i].copy()\n",
        "            break\n",
        "\n",
        "    for i, val in enumerate(con):\n",
        "        if tar[i] == 'yes':\n",
        "            for x in range(len(specific_h)):\n",
        "                if val[x] != specific_h[x]:\n",
        "                    specific_h[x] = '?'\n",
        "                else:\n",
        "                    pass\n",
        "    return specific_h"
      ],
      "metadata": {
        "id": "psOqQ1UojrVB"
      },
      "execution_count": null,
      "outputs": []
    },
    {
      "cell_type": "code",
      "source": [
        "print(train(concepts, target))"
      ],
      "metadata": {
        "colab": {
          "base_uri": "https://localhost:8080/"
        },
        "id": "HTBXIasmkEZp",
        "outputId": "8820d8fa-62de-46d6-a8b3-f3fee609eb3c"
      },
      "execution_count": null,
      "outputs": [
        {
          "output_type": "stream",
          "name": "stdout",
          "text": [
            "['sunny' 'warm' '?' 'strong' '?' '?']\n"
          ]
        }
      ]
    }
  ]
}