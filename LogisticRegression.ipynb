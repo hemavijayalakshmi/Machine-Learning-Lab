{
  "nbformat": 4,
  "nbformat_minor": 0,
  "metadata": {
    "colab": {
      "provenance": [],
      "authorship_tag": "ABX9TyObFVCMgKGOrH8LCDjwRIU8",
      "include_colab_link": true
    },
    "kernelspec": {
      "name": "python3",
      "display_name": "Python 3"
    },
    "language_info": {
      "name": "python"
    }
  },
  "cells": [
    {
      "cell_type": "markdown",
      "metadata": {
        "id": "view-in-github",
        "colab_type": "text"
      },
      "source": [
        "<a href=\"https://colab.research.google.com/github/hemavijayalakshmi/Machine-Learning-Lab/blob/main/LogisticRegression.ipynb\" target=\"_parent\"><img src=\"https://colab.research.google.com/assets/colab-badge.svg\" alt=\"Open In Colab\"/></a>"
      ]
    },
    {
      "cell_type": "code",
      "execution_count": null,
      "metadata": {
        "colab": {
          "base_uri": "https://localhost:8080/"
        },
        "id": "3GxAifLWIddu",
        "outputId": "2745ed74-e47e-4df2-d8cf-4bb67cd466b2"
      },
      "outputs": [
        {
          "output_type": "stream",
          "name": "stdout",
          "text": [
            "Accuracy: 1.0\n",
            "              precision    recall  f1-score   support\n",
            "\n",
            "           0       1.00      1.00      1.00         2\n",
            "           1       1.00      1.00      1.00         1\n",
            "\n",
            "    accuracy                           1.00         3\n",
            "   macro avg       1.00      1.00      1.00         3\n",
            "weighted avg       1.00      1.00      1.00         3\n",
            "\n",
            "Prediction: 1\n"
          ]
        },
        {
          "output_type": "stream",
          "name": "stderr",
          "text": [
            "/usr/local/lib/python3.11/dist-packages/sklearn/utils/validation.py:2739: UserWarning: X does not have valid feature names, but LogisticRegression was fitted with feature names\n",
            "  warnings.warn(\n"
          ]
        }
      ],
      "source": [
        "  # Import necessary libraries\n",
        "import numpy as np\n",
        "import pandas as pd\n",
        "from sklearn.model_selection import train_test_split\n",
        "from sklearn.linear_model import LogisticRegression\n",
        "from sklearn.metrics import accuracy_score, classification_report\n",
        "\n",
        "# Step 1: Create a sample dataset\n",
        "# For demonstration, we'll create a DataFrame with random data\n",
        "data = pd.DataFrame({\n",
        "    'Age': [22, 25, 47, 35, 46, 56, 23, 34, 45, 36, 29, 40, 50, 60, 30],\n",
        "    'Income': [15000, 18000, 32000, 29000, 40000, 60000, 20000, 25000, 35000, 45000, 30000, 50000, 70000, 80000, 55000],\n",
        "    'SpendingScore': [39, 81, 6, 77, 40, 60, 50, 70, 90, 30, 20, 80, 10, 5, 95],\n",
        "    'Purchased': [0, 1, 0, 1, 0, 1, 0, 1, 1, 0, 0, 1, 0, 0, 1]  # Target variable\n",
        "})\n",
        "\n",
        "# Step 2: Preprocess the data\n",
        "# Assume the target variable is in the last column\n",
        "X = data.iloc[:, :-1]  # Features (all columns except the last one)\n",
        "y = data.iloc[:, -1]   # Target (last column)\n",
        "\n",
        "# Split the data into training and testing sets\n",
        "X_train, X_test, y_train, y_test = train_test_split(X, y, test_size=0.2, random_state=42)\n",
        "\n",
        "# Step 3: Train the Logistic Regression model\n",
        "model = LogisticRegression()\n",
        "model.fit(X_train, y_train)\n",
        "\n",
        "# Step 4: Evaluate the model\n",
        "y_pred = model.predict(X_test)\n",
        "accuracy = accuracy_score(y_test, y_pred)\n",
        "print(f\"Accuracy: {accuracy}\")\n",
        "print(classification_report(y_test, y_pred))\n",
        "\n",
        "# Step 5: Make predictions\n",
        "# Replace feature1, feature2, ... with actual feature values\n",
        "new_data = np.array([[30, 40000, 70]])  # Example: Age=30, Income=40000, SpendingScore=70\n",
        "prediction = model.predict(new_data)\n",
        "print(f\"Prediction: {prediction[0]}\")  # Output the predicted class"
      ]
    }
  ]
}