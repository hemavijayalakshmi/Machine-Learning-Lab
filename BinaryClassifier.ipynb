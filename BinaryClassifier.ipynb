{
  "nbformat": 4,
  "nbformat_minor": 0,
  "metadata": {
    "colab": {
      "provenance": [],
      "authorship_tag": "ABX9TyMvC7Uev4NXw+S3yy4V3oCR",
      "include_colab_link": true
    },
    "kernelspec": {
      "name": "python3",
      "display_name": "Python 3"
    },
    "language_info": {
      "name": "python"
    }
  },
  "cells": [
    {
      "cell_type": "markdown",
      "metadata": {
        "id": "view-in-github",
        "colab_type": "text"
      },
      "source": [
        "<a href=\"https://colab.research.google.com/github/hemavijayalakshmi/Machine-Learning-Lab/blob/main/BinaryClassifier.ipynb\" target=\"_parent\"><img src=\"https://colab.research.google.com/assets/colab-badge.svg\" alt=\"Open In Colab\"/></a>"
      ]
    },
    {
      "cell_type": "code",
      "execution_count": null,
      "metadata": {
        "colab": {
          "base_uri": "https://localhost:8080/"
        },
        "id": "GpH1tGUVJV5C",
        "outputId": "21185e23-ddbf-4bde-9f82-37787c583cf0"
      },
      "outputs": [
        {
          "output_type": "stream",
          "name": "stdout",
          "text": [
            "Accuracy: 1.0\n",
            "              precision    recall  f1-score   support\n",
            "\n",
            "           0       1.00      1.00      1.00         2\n",
            "           1       1.00      1.00      1.00         1\n",
            "\n",
            "    accuracy                           1.00         3\n",
            "   macro avg       1.00      1.00      1.00         3\n",
            "weighted avg       1.00      1.00      1.00         3\n",
            "\n",
            "Prediction: 0\n"
          ]
        },
        {
          "output_type": "stream",
          "name": "stderr",
          "text": [
            "/usr/local/lib/python3.11/dist-packages/sklearn/utils/validation.py:2739: UserWarning: X does not have valid feature names, but RandomForestClassifier was fitted with feature names\n",
            "  warnings.warn(\n"
          ]
        }
      ],
      "source": [
        "# Import necessary libraries\n",
        "import numpy as np\n",
        "import pandas as pd\n",
        "from sklearn.model_selection import train_test_split\n",
        "from sklearn.ensemble import RandomForestClassifier\n",
        "from sklearn.metrics import accuracy_score, classification_report\n",
        "\n",
        "# Step 1: Create a new sample dataset\n",
        "# For demonstration, we'll create a DataFrame with random data\n",
        "data = pd.DataFrame({\n",
        "    'Age': [22, 25, 47, 35, 46, 56, 23, 34, 45, 36, 29, 40, 50, 60, 30],\n",
        "    'AccountBalance': [1500, 1800, 3200, 2900, 4000, 6000, 2000, 2500, 3500, 4500, 3000, 5000, 7000, 8000, 5500],\n",
        "    'NumTransactions': [5, 6, 2, 8, 3, 1, 4, 7, 9, 2, 1, 6, 3, 2, 10],\n",
        "    'Churned': [0, 0, 1, 1, 0, 1, 0, 1, 1, 0, 0, 1, 0, 0, 1]  # Target variable (0 = Not Churned, 1 = Churned)\n",
        "})\n",
        "\n",
        "# Step 2: Preprocess the data\n",
        "# Assume the target variable is in the last column\n",
        "X = data.iloc[:, :-1]  # Features (all columns except the last one)\n",
        "y = data.iloc[:, -1]   # Target (last column)\n",
        "\n",
        "# Split the data into training and testing sets\n",
        "X_train, X_test, y_train, y_test = train_test_split(X, y, test_size=0.2, random_state=42)\n",
        "\n",
        "# Step 3: Train the Binary Classifier (Random Forest)\n",
        "model = RandomForestClassifier(random_state=42)\n",
        "model.fit(X_train, y_train)\n",
        "\n",
        "# Step 4: Evaluate the model\n",
        "y_pred = model.predict(X_test)\n",
        "accuracy = accuracy_score(y_test, y_pred)\n",
        "print(f\"Accuracy: {accuracy}\")\n",
        "print(classification_report(y_test, y_pred))\n",
        "\n",
        "# Step 5: Make predictions\n",
        "# Replace feature1, feature2, ... with actual feature values\n",
        "new_data = np.array([[32, 4500, 5]])  # Example: Age=32, AccountBalance=4500, NumTransactions=5\n",
        "prediction = model.predict(new_data)\n",
        "print(f\"Prediction: {prediction[0]}\")  # Output the predicted class"
      ]
    }
  ]
}